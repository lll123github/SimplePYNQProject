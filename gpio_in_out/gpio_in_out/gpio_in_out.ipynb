{
 "cells": [
  {
   "cell_type": "code",
   "execution_count": 1,
   "metadata": {},
   "outputs": [
    {
     "data": {
      "application/javascript": [
       "\n",
       "try {\n",
       "require(['notebook/js/codecell'], function(codecell) {\n",
       "  codecell.CodeCell.options_default.highlight_modes[\n",
       "      'magic_text/x-csrc'] = {'reg':[/^%%microblaze/]};\n",
       "  Jupyter.notebook.events.one('kernel_ready.Kernel', function(){\n",
       "      Jupyter.notebook.get_cells().map(function(cell){\n",
       "          if (cell.cell_type == 'code'){ cell.auto_highlight(); } }) ;\n",
       "  });\n",
       "});\n",
       "} catch (e) {};\n"
      ]
     },
     "metadata": {},
     "output_type": "display_data"
    },
    {
     "data": {
      "application/javascript": [
       "\n",
       "try {\n",
       "require(['notebook/js/codecell'], function(codecell) {\n",
       "  codecell.CodeCell.options_default.highlight_modes[\n",
       "      'magic_text/x-csrc'] = {'reg':[/^%%pybind11/]};\n",
       "  Jupyter.notebook.events.one('kernel_ready.Kernel', function(){\n",
       "      Jupyter.notebook.get_cells().map(function(cell){\n",
       "          if (cell.cell_type == 'code'){ cell.auto_highlight(); } }) ;\n",
       "  });\n",
       "});\n",
       "} catch (e) {};\n"
      ]
     },
     "metadata": {},
     "output_type": "display_data"
    }
   ],
   "source": [
    "from pynq import Overlay\n",
    "overlay=Overlay('./design_1.bit')\n"
   ]
  },
  {
   "cell_type": "code",
   "execution_count": 15,
   "metadata": {},
   "outputs": [],
   "source": [
    "overlay?"
   ]
  },
  {
   "cell_type": "markdown",
   "metadata": {},
   "source": [
    "按键按下的时候是0，没有按下的时候是1\n",
    "灯亮的时候是0，没有亮的时候是1"
   ]
  },
  {
   "cell_type": "code",
   "execution_count": null,
   "metadata": {},
   "outputs": [
    {
     "name": "stdout",
     "output_type": "stream",
     "text": [
      "gpio test\n",
      "input change!\n",
      "0\n",
      "1\n",
      "13\n",
      "13\n",
      "0\n",
      "13\n",
      "input change!\n",
      "1\n",
      "0\n",
      "0\n",
      "13\n",
      "13\n",
      "13\n",
      "input change!\n",
      "0\n",
      "1\n",
      "13\n",
      "13\n",
      "0\n",
      "13\n",
      "input change!\n",
      "1\n",
      "0\n",
      "0\n",
      "13\n",
      "13\n",
      "13\n",
      "input change!\n",
      "0\n",
      "1\n",
      "13\n",
      "13\n",
      "0\n",
      "13\n",
      "input change!\n",
      "1\n",
      "0\n",
      "0\n",
      "13\n",
      "13\n",
      "13\n",
      "input change!\n",
      "0\n",
      "1\n",
      "13\n",
      "13\n",
      "0\n",
      "13\n",
      "input change!\n",
      "1\n",
      "0\n",
      "0\n",
      "13\n",
      "13\n",
      "13\n",
      "input change!\n",
      "0\n",
      "1\n",
      "13\n",
      "13\n",
      "0\n",
      "13\n",
      "input change!\n",
      "1\n",
      "0\n",
      "0\n",
      "13\n",
      "13\n",
      "13\n",
      "input change!\n",
      "0\n",
      "1\n",
      "13\n",
      "13\n",
      "0\n",
      "13\n",
      "input change!\n",
      "1\n",
      "0\n",
      "0\n",
      "13\n",
      "13\n",
      "13\n",
      "input change!\n",
      "0\n",
      "1\n",
      "13\n",
      "13\n",
      "0\n",
      "13\n",
      "input change!\n",
      "1\n",
      "0\n",
      "0\n",
      "13\n",
      "13\n",
      "13\n"
     ]
    }
   ],
   "source": [
    "led = overlay.axi_gpio_0\n",
    "key = overlay.axi_gpio_1\n",
    "print(\"gpio test\")\n",
    "input1=1\n",
    "while 1:\n",
    "    led.write(0x00,15-2)\n",
    "    input1=key.read(0x00)\n",
    "    if input1 !=input2:\n",
    "        print('input change!')\n",
    "        print(input1)\n",
    "        print(input2)\n",
    "        print(led.read(0x04))\n",
    "        print(led.read(0x00))\n",
    "    led.write(0x04,input1+4*input1+8*input1)\n",
    "    if input1 != input2:\n",
    "        print(led.read(0x04))\n",
    "        print(led.read(0x00))\n",
    "    input2=input1\n",
    "        "
   ]
  },
  {
   "cell_type": "code",
   "execution_count": null,
   "metadata": {},
   "outputs": [],
   "source": []
  }
 ],
 "metadata": {
  "kernelspec": {
   "display_name": "Python 3",
   "language": "python",
   "name": "python3"
  },
  "language_info": {
   "codemirror_mode": {
    "name": "ipython",
    "version": 3
   },
   "file_extension": ".py",
   "mimetype": "text/x-python",
   "name": "python",
   "nbconvert_exporter": "python",
   "pygments_lexer": "ipython3",
   "version": "3.6.5"
  }
 },
 "nbformat": 4,
 "nbformat_minor": 2
}
